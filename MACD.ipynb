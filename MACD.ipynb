{
 "cells": [
  {
   "cell_type": "code",
   "execution_count": 20,
   "metadata": {
    "collapsed": false
   },
   "outputs": [
    {
     "name": "stdout",
     "output_type": "stream",
     "text": [
      "date\n",
      "2018-03-22    HOLD\n",
      "2018-03-23    HOLD\n",
      "2018-03-26    HOLD\n",
      "2018-03-27    HOLD\n",
      "2018-03-28    HOLD\n",
      "2018-03-29    HOLD\n",
      "2018-04-02    HOLD\n",
      "2018-04-03    HOLD\n",
      "2018-04-04    HOLD\n",
      "Name: Advice, dtype: object\n"
     ]
    }
   ],
   "source": [
    "import pandas as pd\n",
    "from stockstats import StockDataFrame as Sdf\n",
    "\n",
    "data   = pd.read_csv('AAPL.csv')\n",
    "\n",
    "stock  = Sdf.retype(data)\n",
    "\n",
    "signal = stock['macds']        # Your signal line\n",
    "macd   = stock['macd']         # The MACD that need to cross the signal line\n",
    "\n",
    "#print(signal)\n",
    "#print(macd)\n",
    "\n",
    "#                                              to give you a Buy/Sell signal\n",
    "listLongShort = [\"No data\"]    # Since you need at least two days in the for loop\n",
    "\n",
    "for i in range(1, len(signal)):\n",
    "    #                          # If the MACD crosses the signal line upward\n",
    "    if macd[i] > signal[i] and macd[i - 1] <= signal[i - 1]:\n",
    "        listLongShort.append(\"BUY\")\n",
    "    #                          # The other way around\n",
    "    elif macd[i] < signal[i] and macd[i - 1] >= signal[i - 1]:\n",
    "        listLongShort.append(\"SELL\")\n",
    "    #                          # Do nothing if not crossed\n",
    "    else:\n",
    "        listLongShort.append(\"HOLD\")\n",
    "\n",
    "stock['Advice'] = listLongShort\n",
    "\n",
    "# The advice column means \"Buy/Sell/Hold\" at the end of this day or\n",
    "#  at the beginning of the next day, since the market will be closed\n",
    "\n",
    "\n",
    "print(stock['Advice'][-9:])"
   ]
  },
  {
   "cell_type": "code",
   "execution_count": null,
   "metadata": {
    "collapsed": true
   },
   "outputs": [],
   "source": []
  }
 ],
 "metadata": {
  "kernelspec": {
   "display_name": "Python 3",
   "language": "python",
   "name": "python3"
  },
  "language_info": {
   "codemirror_mode": {
    "name": "ipython",
    "version": 3
   },
   "file_extension": ".py",
   "mimetype": "text/x-python",
   "name": "python",
   "nbconvert_exporter": "python",
   "pygments_lexer": "ipython3",
   "version": "3.6.0"
  }
 },
 "nbformat": 4,
 "nbformat_minor": 2
}
